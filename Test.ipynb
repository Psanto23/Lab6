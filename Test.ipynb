{
 "cells": [
  {
   "cell_type": "code",
   "execution_count": 2,
   "metadata": {},
   "outputs": [
    {
     "name": "stdin",
     "output_type": "stream",
     "text": [
      "These are the names of the contributers to this repository Paul and Logan\n"
     ]
    }
   ],
   "source": [
    "names = input(\"These are the names of the contributers to this repository: \")\n"
   ]
  },
  {
   "cell_type": "code",
   "execution_count": 3,
   "metadata": {},
   "outputs": [
    {
     "name": "stdin",
     "output_type": "stream",
     "text": [
      "Enter your favorite number:  5\n"
     ]
    }
   ],
   "source": [
    "num = input(\"Enter your favorite number: \")"
   ]
  },
  {
   "cell_type": "code",
   "execution_count": 4,
   "metadata": {},
   "outputs": [
    {
     "name": "stdin",
     "output_type": "stream",
     "text": [
      "Enter your birthday month 8\n",
      "Enter your birday day 31\n"
     ]
    }
   ],
   "source": [
    "month = input(\"Enter your birthday month (as a number)\")\n",
    "day = input(\"Enter your birday day\")"
   ]
  },
  {
   "cell_type": "code",
   "execution_count": 5,
   "metadata": {},
   "outputs": [
    {
     "name": "stdout",
     "output_type": "stream",
     "text": [
      "Now let's multiply your month by 5\n"
     ]
    }
   ],
   "source": [
    "print(\"Now let's multiply your month by 5\")\n",
    "month = month*5"
   ]
  },
  {
   "cell_type": "code",
   "execution_count": 11,
   "metadata": {},
   "outputs": [
    {
     "name": "stdout",
     "output_type": "stream",
     "text": [
      "Add 6\n",
      "Multiply by 4\n",
      "Add 9\n",
      "Multiply by 5\n",
      "Add the day\n"
     ]
    }
   ],
   "source": [
    "print(\"Add 6\")\n",
    "int(month)\n",
    "month = int(month) + 6\n",
    "print(\"Multiply by 4\")\n",
    "month = month*4\n",
    "print(\"Add 9\")\n",
    "month = month+9\n",
    "print(\"Multiply by 5\")\n",
    "month = month * 5\n",
    "print(\"Add the day\")\n",
    "month = month + int(day)\n",
    "p"
   ]
  },
  {
   "cell_type": "code",
   "execution_count": 9,
   "metadata": {},
   "outputs": [
    {
     "ename": "NameError",
     "evalue": "name 'Wha' is not defined",
     "output_type": "error",
     "traceback": [
      "\u001b[0;31m---------------------------------------------------------------------------\u001b[0m",
      "\u001b[0;31mNameError\u001b[0m                                 Traceback (most recent call last)",
      "\u001b[0;32m<ipython-input-9-d43187133245>\u001b[0m in \u001b[0;36m<module>\u001b[0;34m\u001b[0m\n\u001b[0;32m----> 1\u001b[0;31m \u001b[0mWha\u001b[0m\u001b[0;34m\u001b[0m\u001b[0;34m\u001b[0m\u001b[0m\n\u001b[0m",
      "\u001b[0;31mNameError\u001b[0m: name 'Wha' is not defined"
     ]
    }
   ],
   "source": []
  },
  {
   "cell_type": "code",
   "execution_count": null,
   "metadata": {},
   "outputs": [],
   "source": []
  }
 ],
 "metadata": {
  "kernelspec": {
   "display_name": "Python 3",
   "language": "python",
   "name": "python3"
  },
  "language_info": {
   "codemirror_mode": {
    "name": "ipython",
    "version": 3
   },
   "file_extension": ".py",
   "mimetype": "text/x-python",
   "name": "python",
   "nbconvert_exporter": "python",
   "pygments_lexer": "ipython3",
   "version": "3.8.3"
  }
 },
 "nbformat": 4,
 "nbformat_minor": 4
}
